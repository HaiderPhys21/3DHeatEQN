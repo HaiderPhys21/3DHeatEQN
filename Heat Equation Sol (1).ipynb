{
 "cells": [
  {
   "cell_type": "markdown",
   "id": "dfa2b0a1-a924-4c1f-b235-3135d936ef69",
   "metadata": {},
   "source": [
    "# Assignment 1 (MMP II)\n",
    "\n",
    "### Name: Syed Haider Ali\n",
    "### Dept: DPAM\n",
    "### Reg No: 07-3-1-041-2021\n",
    "### Batch: 2021-2025"
   ]
  },
  {
   "cell_type": "markdown",
   "id": "8b08a266-92cc-421e-8ecf-688ab54ff8b0",
   "metadata": {},
   "source": [
    "# Heat Equation Solution in One Dimension\n",
    "\n"
   ]
  },
  {
   "cell_type": "markdown",
   "id": "cd542a7c-d79c-4c6e-aa66-711f45a115ed",
   "metadata": {},
   "source": [
    "## Background\n",
    "\n",
    "### The Heat Equation: Understanding Heat Flow\n",
    "The heat equation is a fundamental equation in physics that governs how heat diffuses or flows within a material over time. It describes the relationship between the temperature distribution u(x, t) at a point x and time t with the material's properties and heat sources.\n",
    "\n",
    "**Significance**:\n",
    "\n",
    "The heat equation plays a crucial role in various scientific and engineering applications. Here's why it's important:\n",
    "\n",
    "-> **Predicting temperature distribution**: It allows us to predict how temperatures will change within a system over time, which is essential for designing and optimizing heat transfer processes. Examples include designing heat exchangers, analyzing insulation effectiveness, and understanding thermal behavior in buildings.\n",
    "\n",
    "-> **Understanding thermal response**: By solving the heat equation, we can understand how a material responds to external thermal loads. This helps predict the risk of overheating, optimize cooling systems, and analyze the thermal behavior of machinery.\n",
    "\n",
    "-> **Modeling various phenomena**: The heat equation forms the basis for modeling other heat transfer processes like convection and radiation when coupled with appropriate boundary conditions.\n",
    "\n"
   ]
  },
  {
   "cell_type": "markdown",
   "id": "c5572860-254a-4af4-914f-953259607f52",
   "metadata": {},
   "source": [
    "## Importing Necessary  Libraries"
   ]
  },
  {
   "cell_type": "code",
   "execution_count": 16,
   "id": "22187eba-06f6-40c3-9beb-24b871eecfe1",
   "metadata": {
    "tags": []
   },
   "outputs": [],
   "source": [
    "import simpy\n",
    "import numpy as np\n",
    "import matplotlib.pyplot as plt\n",
    "from ipywidgets import interact, FloatSlider\n",
    "from matplotlib.widgets import Slider\n",
    "from mpl_toolkits.mplot3d import Axes3D\n",
    "%matplotlib inline\n",
    "\n",
    "\n"
   ]
  },
  {
   "cell_type": "markdown",
   "id": "a356fde7-771e-41d1-a1c3-6f0bcc014254",
   "metadata": {},
   "source": [
    "### Initial Conditions and Parameters"
   ]
  },
  {
   "cell_type": "code",
   "execution_count": 17,
   "id": "8430e498-ff08-40b7-9ca7-a64272b36162",
   "metadata": {
    "tags": []
   },
   "outputs": [],
   "source": [
    "# Define initial condition\n",
    "f1 = lambda x: 1\n",
    "f2 = lambda x: np.exp(-x)  # Exponential function (can be changed)\n",
    "f3 = lambda x: np.cos(x)\n",
    "f4 = lambda x: np.exp(-x**2)\n",
    "\n",
    "# Set parameters\n",
    "L = np.pi  # Length of the rod\n",
    "a = 0.1  # Thermal diffusivity\n",
    "t_max = 1  # Maximum time\n",
    "\n",
    "# Generate spatial and temporal points\n",
    "X = np.linspace(0, L, 100)\n",
    "T = np.linspace(0, t_max, 50)\n",
    "t_snapshots = [0.25, 0.5, 0.75]  # Time points for snapshots\n"
   ]
  },
  {
   "cell_type": "code",
   "execution_count": 18,
   "id": "77af43ae-74db-4f6c-a0f9-a2fc0ae67e10",
   "metadata": {
    "tags": []
   },
   "outputs": [],
   "source": [
    "# Create the simulation environment\n",
    "env = simpy.Environment()\n",
    "\n",
    "F = [f1,f2,f3,f4]\n"
   ]
  },
  {
   "cell_type": "markdown",
   "id": "958948c6-96ec-421e-aec4-73b55189a4ef",
   "metadata": {},
   "source": [
    "## Generating 2D plots with time instants"
   ]
  },
  {
   "cell_type": "markdown",
   "id": "634c77b5-0b79-491b-892e-e359305d9021",
   "metadata": {},
   "source": [
    "### Comparing Behaviour of different f(x) interactively"
   ]
  },
  {
   "cell_type": "code",
   "execution_count": 19,
   "id": "79eca6dc-dddc-46e3-b048-e765aad9de0b",
   "metadata": {
    "tags": []
   },
   "outputs": [],
   "source": [
    "def heat_equation(L, a, f, X, T):\n",
    "  \"\"\"\n",
    "  Simulates the solution of the heat equation using separation of variables.\n",
    "\n",
    "  Args:\n",
    "      L: Length of the rod.\n",
    "      a: Thermal diffusivity.\n",
    "      f: Initial temperature function.\n",
    "      x: Spatial points.\n",
    "      t: Time point.\n",
    "\n",
    "  Returns:\n",
    "      The temperature at position x and time t.\n",
    "  \"\"\"\n",
    "  n_terms = 100  # Number of terms in the infinite series\n",
    "  eigenvalues = np.pi**2 * np.arange(1, n_terms + 1) / (L**2)\n",
    "  coefficients = np.zeros(n_terms)\n",
    "  for n in range(n_terms):\n",
    "    coefficients[n] = 2 / L * np.trapz(f(X) * np.sin(n * np.pi * X / L), X)\n",
    "  u = np.zeros_like(X)\n",
    "  for n in range(n_terms):\n",
    "    u += coefficients[n] * np.exp(-eigenvalues[n] * a * T) * np.sin(n * np.pi * X / L)\n",
    "  return u\n"
   ]
  },
  {
   "cell_type": "markdown",
   "id": "5f5a6d4d-d6b5-4290-8bc6-f583f39a1856",
   "metadata": {},
   "source": [
    "### Interactive Plotting\n",
    "\n",
    "Here we create an interactive plot by inserting a time slider to really observe the evolution of the system with time for different f(x)\n",
    "\n",
    "**Note: If the below cell is not displaying run the notebook again** "
   ]
  },
  {
   "cell_type": "code",
   "execution_count": 20,
   "id": "02be5503-a9bd-4a5a-bd14-b9cf34a12044",
   "metadata": {},
   "outputs": [
    {
     "data": {
      "application/vnd.jupyter.widget-view+json": {
       "model_id": "af52a90ce47f40659a4859f8de78b40d",
       "version_major": 2,
       "version_minor": 0
      },
      "text/plain": [
       "interactive(children=(FloatSlider(value=0.5, description='Time', max=10.0, step=0.01), FloatSlider(value=0.1, …"
      ]
     },
     "metadata": {},
     "output_type": "display_data"
    },
    {
     "data": {
      "text/plain": [
       "<function __main__.update_plot(T=1, a=0.1)>"
      ]
     },
     "execution_count": 20,
     "metadata": {},
     "output_type": "execute_result"
    }
   ],
   "source": [
    "\n",
    "def update_plot(T=1, a=0.1):\n",
    "    u1 = heat_equation(L, a, f1, X, T)\n",
    "    u2 = heat_equation(L, a, f2, X, T)\n",
    "    u3 = heat_equation(L, a, f3, X, T)\n",
    "    u4 = heat_equation(L, a, f4, X, T)\n",
    "\n",
    "    plt.clf()  # Clear the previous plot\n",
    "    plt.plot(X, u1, label=r\"$f(x) = 1$\")\n",
    "    plt.plot(X, u2, label=r\"$f(x) = e^{-x}$\")\n",
    "    plt.plot(X, u3, label=r\"$f(x) = \\cos(x)$\")\n",
    "    plt.plot(X, u4, label=r\"$f(x) = e^{-x^2}$\")\n",
    "    plt.xlabel(\"x\")\n",
    "    plt.ylabel(\"U(x,t)\")\n",
    "    plt.title(\"Heat Equation Solution (t = %.2f)\" % T)\n",
    "    plt.legend()\n",
    "    plt.show()\n",
    "\n",
    "# Create a slider widget for time\n",
    "time_slider = FloatSlider(min=0, max=10, step=0.01, value=0.5, description='Time')\n",
    "\n",
    "# Create a slider widget for Thermal diffusivity\n",
    "a_slider = FloatSlider(min=0, max=1, step=0.001, value=0.1, description='Thermal diffusivity')\n",
    "\n",
    "# Connect the slider to the update function\n",
    "interact(update_plot, T=time_slider, a=a_slider)"
   ]
  },
  {
   "cell_type": "markdown",
   "id": "812f4f20-e02d-4216-bf7b-2aaa26f41c79",
   "metadata": {},
   "source": [
    "## Generating 3D plots of the Heat Equation"
   ]
  },
  {
   "cell_type": "code",
   "execution_count": 21,
   "id": "9bb365ca-2946-4c93-92ce-25b5804274e9",
   "metadata": {
    "tags": []
   },
   "outputs": [],
   "source": [
    "import numpy as np\n",
    "import sympy as sp\n",
    "import matplotlib.pyplot as plt\n",
    "from mpl_toolkits.mplot3d import Axes3D\n",
    "from ipywidgets import interact, FloatSlider\n",
    "\n",
    "# Define symbols and variables\n",
    "x, t = sp.symbols('x t')\n",
    "n = sp.symbols('n', integer=True)  # Define n as a symbol\n",
    "\n",
    "def plot_3d(Func, L, LABEL):\n",
    "\n",
    "    def TD_update_plot(a=0.1):\n",
    "        # Define the thermal diffusivity parameter\n",
    "        a_value = a\n",
    "    \n",
    "        # Define the solution expression\n",
    "        u_n = (2/L) * sp.integrate(Func * sp.sin((n * np.pi * x)/L), (x, 0, L)) * sp.sin((n * np.pi * x)/L) * sp.exp(-((n*np.pi*a_value)/L)**2 * t)\n",
    "\n",
    "        solution = sp.Sum(u_n, (n, 1, 100))\n",
    "\n",
    "        # Compute the solution\n",
    "        solution = solution.doit()\n",
    "\n",
    "        # Create a lambdified function for numerical evaluation\n",
    "        u_func = sp.lambdify((x, t), solution, 'numpy')\n",
    "\n",
    "        # Define the range for x and t\n",
    "        x_values = np.linspace(0, np.pi, 100)\n",
    "        t_values = np.linspace(0, 1, 100)\n",
    "\n",
    "        # Create meshgrid for 3D plotting\n",
    "        X, T = np.meshgrid(x_values, t_values)\n",
    "\n",
    "        # Compute the solution for the meshgrid\n",
    "        Z = np.zeros_like(X)\n",
    "        for i in range(1, 11):  # Summation from n=1 to n=10\n",
    "            Z += u_func(X, T)\n",
    "\n",
    "        # Plot\n",
    "        fig = plt.figure()\n",
    "        ax = fig.add_subplot(111, projection='3d')\n",
    "        ax.plot_surface(X, T, Z, cmap='viridis')\n",
    "        ax.set_xlabel('x')\n",
    "        ax.set_ylabel('t')\n",
    "        ax.set_zlabel('u(x,t)')\n",
    "        ax.set_title('Solution of 1D Heat Equation '+LABEL+ 'with a = {:.3f}'.format(a_value))\n",
    "        plt.show()\n",
    "\n",
    "    # Create a slider widget for Thermal diffusivity\n",
    "    a_slider = FloatSlider(min=0, max=1, step=0.001, value=0.1, description='Thermal diffusivity')\n",
    "\n",
    "    # Connect the slider to the update function\n",
    "    interact(TD_update_plot, a=a_slider)\n"
   ]
  },
  {
   "cell_type": "code",
   "execution_count": 22,
   "id": "c4d9377e-cf4d-4347-b887-c03e1512b902",
   "metadata": {
    "tags": []
   },
   "outputs": [
    {
     "data": {
      "application/vnd.jupyter.widget-view+json": {
       "model_id": "f42436c09930431398bdf320b882bfef",
       "version_major": 2,
       "version_minor": 0
      },
      "text/plain": [
       "interactive(children=(FloatSlider(value=0.1, description='Thermal diffusivity', max=1.0, step=0.001), Output()…"
      ]
     },
     "metadata": {},
     "output_type": "display_data"
    },
    {
     "data": {
      "application/vnd.jupyter.widget-view+json": {
       "model_id": "8003a629268f4f77916d7abb851f021a",
       "version_major": 2,
       "version_minor": 0
      },
      "text/plain": [
       "interactive(children=(FloatSlider(value=0.1, description='Thermal diffusivity', max=1.0, step=0.001), Output()…"
      ]
     },
     "metadata": {},
     "output_type": "display_data"
    },
    {
     "data": {
      "application/vnd.jupyter.widget-view+json": {
       "model_id": "633d048f10d143b9aaa1a5d3ae4b0ba5",
       "version_major": 2,
       "version_minor": 0
      },
      "text/plain": [
       "interactive(children=(FloatSlider(value=0.1, description='Thermal diffusivity', max=1.0, step=0.001), Output()…"
      ]
     },
     "metadata": {},
     "output_type": "display_data"
    },
    {
     "data": {
      "application/vnd.jupyter.widget-view+json": {
       "model_id": "4f13d07b7f234821ae4c20268f5f2cef",
       "version_major": 2,
       "version_minor": 0
      },
      "text/plain": [
       "interactive(children=(FloatSlider(value=0.1, description='Thermal diffusivity', max=1.0, step=0.001), Output()…"
      ]
     },
     "metadata": {},
     "output_type": "display_data"
    }
   ],
   "source": [
    "plot_3d(sp.sin(x), L=0.5*np.pi, LABEL=r\"$f(x) = \\sin(x)$ \")\n",
    "plot_3d(sp.cos(x), L=0.5*np.pi, LABEL=r\"$f(x) = \\cos(x)$ \")\n",
    "plot_3d(sp.exp(-x), L=np.pi, LABEL=r\"$f(x) = e^{-x}$ \")\n",
    "plot_3d(1, L=np.pi, LABEL=r\"$f(x) =1$ \")"
   ]
  },
  {
   "cell_type": "markdown",
   "id": "2e4c4df6-6b6c-4e6c-bb9a-237f0a1ebdf8",
   "metadata": {},
   "source": [
    "## Conclusion\n",
    "\n",
    "In this notebook, we explored the solution of the one-dimensional heat equation using separation of variables and numerical methods. We investigated the behavior of temperature profiles along a rod at a fixed time and thermal diffusivity, considering various initial conditions.\n",
    "\n",
    "For the initial condition **f(x) = exp(x)**, the temperature profile exhibited a rapidly increasing trend along the rod, followed by a sharp decline towards zero temperature at the end of the rod. This behavior reflects the initial rapid temperature rise and subsequent diffusion-driven decrease in temperature gradient.\n",
    "\n",
    "For the initial condition **f(x) = exp(-x)**  the temperature profile along the rod exhibits a rapidly decreasing trend from the left end (where x = 0) towards the right end (where x = π).This behavior reflects the initial sharp decline in temperature as we move along the rod, starting from a higher temperature at the left end and decreasing exponentially towards zero temperature at the right end.\n",
    "\n",
    "\n",
    "With the initial condition **f(x) = 1**, the temperature profile remained nearly constant along the rod, indicating minimal change in temperature over distance. This result is consistent with the concept of a uniform initial temperature distribution maintaining its constancy over time.\n",
    "\n",
    "For the initial condition **f(x) = cos(x)**, the temperature profile oscillated between positive and negative values, gradually decreasing in magnitude over time. The oscillatory behavior smoothed out as heat diffused along the rod, eventually leading to a temperature distribution that approached zero.\n",
    "\n",
    "Additionally, we observed a similar behavior for the initial condition **f(x) = exp(-x^2), where the temperature profile exhibited oscillations resembling those of the cosine function but with weaker amplitude.\n",
    "\n",
    "These results highlight the influence of initial conditions on the evolution of temperature distributions in materials subjected to heat conduction. By studying the behavior of temperature profiles under different initial conditions, we gain valuable insights into the thermal dynamics of one-dimensional systems."
   ]
  },
  {
   "cell_type": "code",
   "execution_count": null,
   "id": "9659eb49-2ab7-4cc7-923f-97ca833b5305",
   "metadata": {},
   "outputs": [],
   "source": []
  }
 ],
 "metadata": {
  "kernelspec": {
   "display_name": "Python 3 (ipykernel)",
   "language": "python",
   "name": "python3"
  },
  "language_info": {
   "codemirror_mode": {
    "name": "ipython",
    "version": 3
   },
   "file_extension": ".py",
   "mimetype": "text/x-python",
   "name": "python",
   "nbconvert_exporter": "python",
   "pygments_lexer": "ipython3",
   "version": "3.11.4"
  }
 },
 "nbformat": 4,
 "nbformat_minor": 5
}
